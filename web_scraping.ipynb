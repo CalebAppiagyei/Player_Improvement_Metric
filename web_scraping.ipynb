{
 "cells": [
  {
   "cell_type": "code",
   "execution_count": null,
   "id": "34064116-6d19-40d0-89b4-509e8234a2f4",
   "metadata": {},
   "outputs": [],
   "source": [
    "!pip install requests"
   ]
  },
  {
   "cell_type": "code",
   "execution_count": null,
   "id": "0b787319-7044-4e39-b6af-33bd7d51b193",
   "metadata": {},
   "outputs": [],
   "source": [
    "!pip install beautifulsoup4"
   ]
  },
  {
   "cell_type": "code",
   "execution_count": null,
   "id": "38272c7c-6230-4445-9bc2-1f2e95b812c0",
   "metadata": {},
   "outputs": [],
   "source": [
    "!pip install pandas"
   ]
  },
  {
   "cell_type": "code",
   "execution_count": null,
   "id": "b0b4a90a-f828-4491-9ad1-ee3c71d8eaa1",
   "metadata": {},
   "outputs": [],
   "source": [
    "!pip install lxml"
   ]
  },
  {
   "cell_type": "code",
   "execution_count": null,
   "id": "d39686a8-2dad-43f4-85cf-c95a317bc5c4",
   "metadata": {},
   "outputs": [],
   "source": [
    "!pip install selenium"
   ]
  },
  {
   "cell_type": "code",
   "execution_count": null,
   "id": "c81a460f-efea-4a7f-afe6-c0e83191fa2e",
   "metadata": {},
   "outputs": [],
   "source": [
    "years = range(1994, 2024)"
   ]
  },
  {
   "cell_type": "code",
   "execution_count": null,
   "id": "798120a5-6f2f-48af-905c-f3e38cb1f5a3",
   "metadata": {},
   "outputs": [],
   "source": [
    "url_start = \"https://www.basketball-reference.com/awards/awards_{}.html\""
   ]
  },
  {
   "cell_type": "code",
   "execution_count": null,
   "id": "3930abf0-a4c1-4deb-a698-ec060c1adc3a",
   "metadata": {},
   "outputs": [],
   "source": [
    "# Using BeautifulSoup to parse a single table"
   ]
  },
  {
   "cell_type": "code",
   "execution_count": null,
   "id": "70296f8b-18bc-4266-810a-e7d9d7d9387e",
   "metadata": {},
   "outputs": [],
   "source": [
    "# import pandas as pd\n",
    "# from io import StringIO\n",
    "# from bs4 import BeautifulSoup\n",
    "\n",
    "# with open(\"mvp/1994.html\") as f:\n",
    "#     page = f.read()\n",
    "\n",
    "# soup = BeautifulSoup(page, \"html.parser\")\n",
    "\n",
    "# # Removing extra header\n",
    "# soup.find('tr', class_=\"over_header\").decompose()\n",
    "\n",
    "# # Removing everything else from the page outside of the mvp table we want\n",
    "# mvp_table = soup.find(id=\"mvp\")\n",
    "\n",
    "# mvp_1994 = pd.read_html(StringIO(str(mvp_table)))\n",
    "\n",
    "# # Displays single data frame\n",
    "# mvp_1994[0]"
   ]
  },
  {
   "cell_type": "code",
   "execution_count": null,
   "id": "51f46c38-2da4-49a5-b80d-28bb8f50dc84",
   "metadata": {},
   "outputs": [],
   "source": [
    "# Parsing all of the tables\n",
    "import pandas as pd\n",
    "from io import StringIO\n",
    "from bs4 import BeautifulSoup\n",
    "\n",
    "dfs = []\n",
    "for year in years:\n",
    "    with open(\"mvp/{}.html\".format(year)) as f:\n",
    "        page = f.read()\n",
    "    soup = BeautifulSoup(page, \"html.parser\")\n",
    "    soup.find('tr', class_=\"over_header\").decompose()\n",
    "    mvp_table = soup.find(id=\"mvp\")\n",
    "    mvp = pd.read_html(StringIO(str(mvp_table)))[0]\n",
    "\n",
    "    # Adding a year column\n",
    "    mvp[\"Year\"] = year\n",
    "    \n",
    "    dfs.append(mvp)"
   ]
  },
  {
   "cell_type": "code",
   "execution_count": null,
   "id": "604e31e6-49f0-4182-9a36-5463f63b3755",
   "metadata": {},
   "outputs": [],
   "source": [
    "# Combining all of the dataframes\n",
    "mvps = pd.concat(dfs)"
   ]
  },
  {
   "cell_type": "code",
   "execution_count": null,
   "id": "c5134c40-1ea4-49bd-98c8-30744ee18986",
   "metadata": {},
   "outputs": [],
   "source": [
    "mvps.to_csv(\"mvps.csv\")"
   ]
  },
  {
   "cell_type": "code",
   "execution_count": null,
   "id": "43435382-7381-44d5-9db8-5c6f525a951a",
   "metadata": {},
   "outputs": [],
   "source": [
    "# Looking at stats for all players in the same year range\n",
    "\n",
    "player_stats_url = \"https://www.basketball-reference.com/leagues/NBA_{}_per_game.html\"\n",
    "# This page uses javascript to render all of the rows because of this we need to use selenium"
   ]
  },
  {
   "cell_type": "code",
   "execution_count": null,
   "id": "8094e011-8197-4066-a1c0-2b8723fd24f9",
   "metadata": {},
   "outputs": [],
   "source": [
    "from selenium import webdriver"
   ]
  },
  {
   "cell_type": "code",
   "execution_count": null,
   "id": "be7b8568-6dcf-415e-ba65-6e70e878ca14",
   "metadata": {},
   "outputs": [],
   "source": [
    "driver = webdriver.Chrome()"
   ]
  }
 ],
 "metadata": {
  "kernelspec": {
   "display_name": "Python 3 (ipykernel)",
   "language": "python",
   "name": "python3"
  },
  "language_info": {
   "codemirror_mode": {
    "name": "ipython",
    "version": 3
   },
   "file_extension": ".py",
   "mimetype": "text/x-python",
   "name": "python",
   "nbconvert_exporter": "python",
   "pygments_lexer": "ipython3",
   "version": "3.11.6"
  }
 },
 "nbformat": 4,
 "nbformat_minor": 5
}
