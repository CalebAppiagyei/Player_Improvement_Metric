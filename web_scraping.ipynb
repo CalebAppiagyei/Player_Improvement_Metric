{
 "cells": [
  {
   "cell_type": "code",
   "execution_count": 1,
   "id": "34064116-6d19-40d0-89b4-509e8234a2f4",
   "metadata": {},
   "outputs": [
    {
     "name": "stdout",
     "output_type": "stream",
     "text": [
      "Requirement already satisfied: requests in c:\\users\\caleb\\miniconda3\\lib\\site-packages (2.28.1)\n",
      "Requirement already satisfied: urllib3<1.27,>=1.21.1 in c:\\users\\caleb\\miniconda3\\lib\\site-packages (from requests) (1.26.13)\n",
      "Requirement already satisfied: idna<4,>=2.5 in c:\\users\\caleb\\miniconda3\\lib\\site-packages (from requests) (3.4)\n",
      "Requirement already satisfied: certifi>=2017.4.17 in c:\\users\\caleb\\miniconda3\\lib\\site-packages (from requests) (2022.12.7)\n",
      "Requirement already satisfied: charset-normalizer<3,>=2 in c:\\users\\caleb\\miniconda3\\lib\\site-packages (from requests) (2.0.4)\n"
     ]
    }
   ],
   "source": [
    "!pip install requests"
   ]
  },
  {
   "cell_type": "code",
   "execution_count": 2,
   "id": "0b787319-7044-4e39-b6af-33bd7d51b193",
   "metadata": {},
   "outputs": [
    {
     "name": "stdout",
     "output_type": "stream",
     "text": [
      "Requirement already satisfied: beautifulsoup4 in c:\\users\\caleb\\miniconda3\\lib\\site-packages (4.12.2)\n",
      "Requirement already satisfied: soupsieve>1.2 in c:\\users\\caleb\\miniconda3\\lib\\site-packages (from beautifulsoup4) (2.4.1)\n"
     ]
    }
   ],
   "source": [
    "!pip install beautifulsoup4"
   ]
  },
  {
   "cell_type": "code",
   "execution_count": 3,
   "id": "38272c7c-6230-4445-9bc2-1f2e95b812c0",
   "metadata": {},
   "outputs": [
    {
     "name": "stdout",
     "output_type": "stream",
     "text": [
      "Requirement already satisfied: pandas in c:\\users\\caleb\\miniconda3\\lib\\site-packages (2.0.1)\n",
      "Requirement already satisfied: pytz>=2020.1 in c:\\users\\caleb\\miniconda3\\lib\\site-packages (from pandas) (2023.3)\n",
      "Requirement already satisfied: tzdata>=2022.1 in c:\\users\\caleb\\miniconda3\\lib\\site-packages (from pandas) (2023.3)\n",
      "Requirement already satisfied: numpy>=1.21.0 in c:\\users\\caleb\\miniconda3\\lib\\site-packages (from pandas) (1.24.1)\n",
      "Requirement already satisfied: python-dateutil>=2.8.2 in c:\\users\\caleb\\miniconda3\\lib\\site-packages (from pandas) (2.8.2)\n",
      "Requirement already satisfied: six>=1.5 in c:\\users\\caleb\\miniconda3\\lib\\site-packages (from python-dateutil>=2.8.2->pandas) (1.16.0)\n"
     ]
    }
   ],
   "source": [
    "!pip install pandas"
   ]
  },
  {
   "cell_type": "code",
   "execution_count": 4,
   "id": "b0b4a90a-f828-4491-9ad1-ee3c71d8eaa1",
   "metadata": {},
   "outputs": [
    {
     "name": "stdout",
     "output_type": "stream",
     "text": [
      "Requirement already satisfied: lxml in c:\\users\\caleb\\miniconda3\\lib\\site-packages (4.9.2)\n"
     ]
    }
   ],
   "source": [
    "!pip install lxml"
   ]
  },
  {
   "cell_type": "code",
   "execution_count": 5,
   "id": "d39686a8-2dad-43f4-85cf-c95a317bc5c4",
   "metadata": {},
   "outputs": [
    {
     "name": "stdout",
     "output_type": "stream",
     "text": [
      "Requirement already satisfied: selenium in c:\\users\\caleb\\miniconda3\\lib\\site-packages (4.9.1)\n",
      "Requirement already satisfied: urllib3[socks]<3,>=1.26 in c:\\users\\caleb\\miniconda3\\lib\\site-packages (from selenium) (1.26.13)\n",
      "Requirement already satisfied: certifi>=2021.10.8 in c:\\users\\caleb\\miniconda3\\lib\\site-packages (from selenium) (2022.12.7)\n",
      "Requirement already satisfied: trio~=0.17 in c:\\users\\caleb\\miniconda3\\lib\\site-packages (from selenium) (0.22.0)\n",
      "Requirement already satisfied: trio-websocket~=0.9 in c:\\users\\caleb\\miniconda3\\lib\\site-packages (from selenium) (0.10.2)\n",
      "Requirement already satisfied: attrs>=19.2.0 in c:\\users\\caleb\\miniconda3\\lib\\site-packages (from trio~=0.17->selenium) (23.1.0)\n",
      "Requirement already satisfied: outcome in c:\\users\\caleb\\miniconda3\\lib\\site-packages (from trio~=0.17->selenium) (1.2.0)\n",
      "Requirement already satisfied: cffi>=1.14 in c:\\users\\caleb\\miniconda3\\lib\\site-packages (from trio~=0.17->selenium) (1.15.1)\n",
      "Requirement already satisfied: sniffio in c:\\users\\caleb\\miniconda3\\lib\\site-packages (from trio~=0.17->selenium) (1.3.0)\n",
      "Requirement already satisfied: idna in c:\\users\\caleb\\miniconda3\\lib\\site-packages (from trio~=0.17->selenium) (3.4)\n",
      "Requirement already satisfied: exceptiongroup>=1.0.0rc9 in c:\\users\\caleb\\miniconda3\\lib\\site-packages (from trio~=0.17->selenium) (1.1.1)\n",
      "Requirement already satisfied: async-generator>=1.9 in c:\\users\\caleb\\miniconda3\\lib\\site-packages (from trio~=0.17->selenium) (1.10)\n",
      "Requirement already satisfied: sortedcontainers in c:\\users\\caleb\\miniconda3\\lib\\site-packages (from trio~=0.17->selenium) (2.4.0)\n",
      "Requirement already satisfied: wsproto>=0.14 in c:\\users\\caleb\\miniconda3\\lib\\site-packages (from trio-websocket~=0.9->selenium) (1.2.0)\n",
      "Requirement already satisfied: PySocks!=1.5.7,<2.0,>=1.5.6 in c:\\users\\caleb\\miniconda3\\lib\\site-packages (from urllib3[socks]<3,>=1.26->selenium) (1.7.1)\n",
      "Requirement already satisfied: pycparser in c:\\users\\caleb\\miniconda3\\lib\\site-packages (from cffi>=1.14->trio~=0.17->selenium) (2.21)\n",
      "Requirement already satisfied: h11<1,>=0.9.0 in c:\\users\\caleb\\miniconda3\\lib\\site-packages (from wsproto>=0.14->trio-websocket~=0.9->selenium) (0.14.0)\n"
     ]
    }
   ],
   "source": [
    "!pip install selenium"
   ]
  },
  {
   "cell_type": "code",
   "execution_count": 23,
   "id": "a4e494f0",
   "metadata": {},
   "outputs": [
    {
     "name": "stdout",
     "output_type": "stream",
     "text": [
      "Collecting python-dotenv\n",
      "  Downloading python_dotenv-1.0.1-py3-none-any.whl (19 kB)\n",
      "Installing collected packages: python-dotenv\n",
      "Successfully installed python-dotenv-1.0.1\n"
     ]
    }
   ],
   "source": [
    "!pip install python-dotenv"
   ]
  },
  {
   "cell_type": "code",
   "execution_count": 9,
   "id": "c81a460f-efea-4a7f-afe6-c0e83191fa2e",
   "metadata": {},
   "outputs": [],
   "source": [
    "years = range(1994, 2024)"
   ]
  },
  {
   "cell_type": "code",
   "execution_count": 10,
   "id": "798120a5-6f2f-48af-905c-f3e38cb1f5a3",
   "metadata": {},
   "outputs": [],
   "source": [
    "url_start = \"https://www.basketball-reference.com/awards/awards_{}.html\""
   ]
  },
  {
   "cell_type": "code",
   "execution_count": null,
   "id": "3930abf0-a4c1-4deb-a698-ec060c1adc3a",
   "metadata": {},
   "outputs": [],
   "source": [
    "import requests\n",
    "\n",
    "for year in years: \n",
    "    url = url_start.format(year)\n",
    "    data = requests.get(url)\n",
    "    with open(\"mvp/{}.html\".format(year), \"w+\") as f:\n",
    "        f.write(data.text)\n"
   ]
  },
  {
   "cell_type": "code",
   "execution_count": 13,
   "id": "70296f8b-18bc-4266-810a-e7d9d7d9387e",
   "metadata": {},
   "outputs": [],
   "source": [
    "# import pandas as pd\n",
    "# from io import StringIO\n",
    "# from bs4 import BeautifulSoup\n",
    "\n",
    "# with open(\"mvp/1994.html\") as f:\n",
    "#     page = f.read()\n",
    "\n",
    "# soup = BeautifulSoup(page, \"html.parser\")\n",
    "\n",
    "# # Removing extra header\n",
    "# soup.find('tr', class_=\"over_header\").decompose()\n",
    "\n",
    "# # Removing everything else from the page outside of the mvp table we want\n",
    "# mvp_table = soup.find(id=\"mvp\")\n",
    "\n",
    "# mvp_1994 = pd.read_html(StringIO(str(mvp_table)))\n",
    "\n",
    "# # Displays single data frame\n",
    "# mvp_1994[0]"
   ]
  },
  {
   "cell_type": "code",
   "execution_count": 11,
   "id": "51f46c38-2da4-49a5-b80d-28bb8f50dc84",
   "metadata": {},
   "outputs": [],
   "source": [
    "# Parsing all of the tables\n",
    "import pandas as pd\n",
    "from io import StringIO\n",
    "from bs4 import BeautifulSoup\n",
    "\n",
    "dfs = []\n",
    "for year in years:\n",
    "    with open(\"mvp/{}.html\".format(year)) as f:\n",
    "        page = f.read()\n",
    "    soup = BeautifulSoup(page, \"html.parser\")\n",
    "    soup.find('tr', class_=\"over_header\").decompose()\n",
    "    mvp_table = soup.find(id=\"mvp\")\n",
    "    mvp = pd.read_html(StringIO(str(mvp_table)))[0]\n",
    "\n",
    "    # Adding a year column\n",
    "    mvp[\"Year\"] = year\n",
    "    \n",
    "    dfs.append(mvp)"
   ]
  },
  {
   "cell_type": "code",
   "execution_count": 12,
   "id": "604e31e6-49f0-4182-9a36-5463f63b3755",
   "metadata": {},
   "outputs": [],
   "source": [
    "# Combining all of the dataframes\n",
    "mvps = pd.concat(dfs)"
   ]
  },
  {
   "cell_type": "code",
   "execution_count": 16,
   "id": "c5134c40-1ea4-49bd-98c8-30744ee18986",
   "metadata": {},
   "outputs": [],
   "source": [
    "mvps.to_csv(\"mvps.csv\")"
   ]
  },
  {
   "cell_type": "code",
   "execution_count": 13,
   "id": "43435382-7381-44d5-9db8-5c6f525a951a",
   "metadata": {},
   "outputs": [],
   "source": [
    "# Looking at stats for all players in the same year range\n",
    "\n",
    "player_stats_url = \"https://www.basketball-reference.com/leagues/NBA_{}_per_game.html\"\n",
    "# This page uses javascript to render all of the rows because of this we need to use selenium"
   ]
  },
  {
   "cell_type": "code",
   "execution_count": 4,
   "id": "8094e011-8197-4066-a1c0-2b8723fd24f9",
   "metadata": {},
   "outputs": [
    {
     "data": {
      "text/plain": [
       "True"
      ]
     },
     "execution_count": 4,
     "metadata": {},
     "output_type": "execute_result"
    }
   ],
   "source": [
    "from dotenv import load_dotenv\n",
    "import os\n",
    "from selenium import webdriver\n",
    "\n",
    "load_dotenv()"
   ]
  },
  {
   "cell_type": "code",
   "execution_count": 5,
   "id": "be7b8568-6dcf-415e-ba65-6e70e878ca14",
   "metadata": {},
   "outputs": [
    {
     "name": "stderr",
     "output_type": "stream",
     "text": [
      "C:\\Users\\Caleb\\AppData\\Local\\Temp\\ipykernel_44704\\2442837788.py:2: DeprecationWarning: executable_path has been deprecated, please pass in a Service object\n",
      "  driver = webdriver.Chrome(executable_path=driver_url)\n"
     ]
    }
   ],
   "source": [
    "driver_url = os.getenv(\"DRIVER_PATH\")\n",
    "driver = webdriver.Chrome(executable_path=driver_url)"
   ]
  },
  {
   "cell_type": "code",
   "execution_count": null,
   "id": "85efed9f",
   "metadata": {},
   "outputs": [],
   "source": [
    "import time\n",
    "\n",
    "for year in years:\n",
    "    # Telling the driver to get all of the data from the page\n",
    "    url = player_stats_url.format(year)\n",
    "    driver.get(url)\n",
    "    driver.execute_script(\"window.scrollTo(1, 10000)\")\n",
    "    \n",
    "    # Giving enough time to execute the commands\n",
    "    time.sleep(2)\n",
    "    \n",
    "    # Creating player stats html files\n",
    "    html = driver.page_source\n",
    "    with open(\"player/{}.html\".format(year), \"w+\") as f:\n",
    "        f.write(html)"
   ]
  },
  {
   "cell_type": "code",
   "execution_count": null,
   "id": "0553ec26",
   "metadata": {},
   "outputs": [
    {
     "data": {
      "text/html": [
       "<div>\n",
       "<style scoped>\n",
       "    .dataframe tbody tr th:only-of-type {\n",
       "        vertical-align: middle;\n",
       "    }\n",
       "\n",
       "    .dataframe tbody tr th {\n",
       "        vertical-align: top;\n",
       "    }\n",
       "\n",
       "    .dataframe thead th {\n",
       "        text-align: right;\n",
       "    }\n",
       "</style>\n",
       "<table border=\"1\" class=\"dataframe\">\n",
       "  <thead>\n",
       "    <tr style=\"text-align: right;\">\n",
       "      <th></th>\n",
       "      <th>Rk</th>\n",
       "      <th>Player</th>\n",
       "      <th>Age</th>\n",
       "      <th>Team</th>\n",
       "      <th>Pos</th>\n",
       "      <th>G</th>\n",
       "      <th>GS</th>\n",
       "      <th>MP</th>\n",
       "      <th>FG</th>\n",
       "      <th>FGA</th>\n",
       "      <th>...</th>\n",
       "      <th>DRB</th>\n",
       "      <th>TRB</th>\n",
       "      <th>AST</th>\n",
       "      <th>STL</th>\n",
       "      <th>BLK</th>\n",
       "      <th>TOV</th>\n",
       "      <th>PF</th>\n",
       "      <th>PTS</th>\n",
       "      <th>Awards</th>\n",
       "      <th>Year</th>\n",
       "    </tr>\n",
       "  </thead>\n",
       "  <tbody>\n",
       "    <tr>\n",
       "      <th>0</th>\n",
       "      <td>1</td>\n",
       "      <td>David Robinson</td>\n",
       "      <td>28</td>\n",
       "      <td>SAS</td>\n",
       "      <td>C</td>\n",
       "      <td>80</td>\n",
       "      <td>80</td>\n",
       "      <td>40.5</td>\n",
       "      <td>10.5</td>\n",
       "      <td>20.7</td>\n",
       "      <td>...</td>\n",
       "      <td>7.7</td>\n",
       "      <td>10.7</td>\n",
       "      <td>4.8</td>\n",
       "      <td>1.7</td>\n",
       "      <td>3.3</td>\n",
       "      <td>3.2</td>\n",
       "      <td>2.9</td>\n",
       "      <td>29.8</td>\n",
       "      <td>MVP-2,DPOY-2,AS,NBA2</td>\n",
       "      <td>1994</td>\n",
       "    </tr>\n",
       "    <tr>\n",
       "      <th>1</th>\n",
       "      <td>2</td>\n",
       "      <td>Shaquille O'Neal</td>\n",
       "      <td>21</td>\n",
       "      <td>ORL</td>\n",
       "      <td>C</td>\n",
       "      <td>81</td>\n",
       "      <td>81</td>\n",
       "      <td>39.8</td>\n",
       "      <td>11.8</td>\n",
       "      <td>19.6</td>\n",
       "      <td>...</td>\n",
       "      <td>8.5</td>\n",
       "      <td>13.2</td>\n",
       "      <td>2.4</td>\n",
       "      <td>0.9</td>\n",
       "      <td>2.9</td>\n",
       "      <td>2.7</td>\n",
       "      <td>3.5</td>\n",
       "      <td>29.3</td>\n",
       "      <td>MVP-4,AS,NBA3</td>\n",
       "      <td>1994</td>\n",
       "    </tr>\n",
       "    <tr>\n",
       "      <th>2</th>\n",
       "      <td>3</td>\n",
       "      <td>Hakeem Olajuwon</td>\n",
       "      <td>31</td>\n",
       "      <td>HOU</td>\n",
       "      <td>C</td>\n",
       "      <td>80</td>\n",
       "      <td>80</td>\n",
       "      <td>41.0</td>\n",
       "      <td>11.2</td>\n",
       "      <td>21.2</td>\n",
       "      <td>...</td>\n",
       "      <td>9.1</td>\n",
       "      <td>11.9</td>\n",
       "      <td>3.6</td>\n",
       "      <td>1.6</td>\n",
       "      <td>3.7</td>\n",
       "      <td>3.4</td>\n",
       "      <td>3.6</td>\n",
       "      <td>27.3</td>\n",
       "      <td>MVP-1,DPOY-1,AS,NBA1</td>\n",
       "      <td>1994</td>\n",
       "    </tr>\n",
       "    <tr>\n",
       "      <th>3</th>\n",
       "      <td>4</td>\n",
       "      <td>Dominique Wilkins</td>\n",
       "      <td>34</td>\n",
       "      <td>2TM</td>\n",
       "      <td>SF</td>\n",
       "      <td>74</td>\n",
       "      <td>74</td>\n",
       "      <td>35.6</td>\n",
       "      <td>9.4</td>\n",
       "      <td>21.5</td>\n",
       "      <td>...</td>\n",
       "      <td>4.0</td>\n",
       "      <td>6.5</td>\n",
       "      <td>2.3</td>\n",
       "      <td>1.2</td>\n",
       "      <td>0.4</td>\n",
       "      <td>2.3</td>\n",
       "      <td>1.7</td>\n",
       "      <td>26.0</td>\n",
       "      <td>MVP-11,AS,NBA3</td>\n",
       "      <td>1994</td>\n",
       "    </tr>\n",
       "    <tr>\n",
       "      <th>4</th>\n",
       "      <td>4</td>\n",
       "      <td>Dominique Wilkins</td>\n",
       "      <td>34</td>\n",
       "      <td>ATL</td>\n",
       "      <td>SF</td>\n",
       "      <td>49</td>\n",
       "      <td>49</td>\n",
       "      <td>34.4</td>\n",
       "      <td>8.8</td>\n",
       "      <td>20.3</td>\n",
       "      <td>...</td>\n",
       "      <td>3.8</td>\n",
       "      <td>6.2</td>\n",
       "      <td>2.3</td>\n",
       "      <td>1.3</td>\n",
       "      <td>0.4</td>\n",
       "      <td>2.4</td>\n",
       "      <td>1.8</td>\n",
       "      <td>24.4</td>\n",
       "      <td>NaN</td>\n",
       "      <td>1994</td>\n",
       "    </tr>\n",
       "  </tbody>\n",
       "</table>\n",
       "<p>5 rows × 32 columns</p>\n",
       "</div>"
      ],
      "text/plain": [
       "  Rk             Player Age Team Pos   G  GS    MP    FG   FGA  ...  DRB   \n",
       "0  1     David Robinson  28  SAS   C  80  80  40.5  10.5  20.7  ...  7.7  \\\n",
       "1  2   Shaquille O'Neal  21  ORL   C  81  81  39.8  11.8  19.6  ...  8.5   \n",
       "2  3    Hakeem Olajuwon  31  HOU   C  80  80  41.0  11.2  21.2  ...  9.1   \n",
       "3  4  Dominique Wilkins  34  2TM  SF  74  74  35.6   9.4  21.5  ...  4.0   \n",
       "4  4  Dominique Wilkins  34  ATL  SF  49  49  34.4   8.8  20.3  ...  3.8   \n",
       "\n",
       "    TRB  AST  STL  BLK  TOV   PF   PTS                Awards  Year  \n",
       "0  10.7  4.8  1.7  3.3  3.2  2.9  29.8  MVP-2,DPOY-2,AS,NBA2  1994  \n",
       "1  13.2  2.4  0.9  2.9  2.7  3.5  29.3         MVP-4,AS,NBA3  1994  \n",
       "2  11.9  3.6  1.6  3.7  3.4  3.6  27.3  MVP-1,DPOY-1,AS,NBA1  1994  \n",
       "3   6.5  2.3  1.2  0.4  2.3  1.7  26.0        MVP-11,AS,NBA3  1994  \n",
       "4   6.2  2.3  1.3  0.4  2.4  1.8  24.4                   NaN  1994  \n",
       "\n",
       "[5 rows x 32 columns]"
      ]
     },
     "execution_count": 14,
     "metadata": {},
     "output_type": "execute_result"
    }
   ],
   "source": [
    "# Removing extra headers again\n",
    "dfs = []\n",
    "for year in years:\n",
    "    with open(\"player/{}.html\".format(year)) as f:\n",
    "        page = f.read()\n",
    "        soup = BeautifulSoup(page, \"html.parser\")\n",
    "        soup.find('tr', class_=\"thead\").decompose()\n",
    "        player_table = soup.find(id=\"per_game_stats\")\n",
    "        player = pd.read_html(str(player_table))[0]\n",
    "        player[\"Year\"] = year\n",
    "        dfs.append(player)\n",
    "        \n",
    "players = pd.concat(dfs)"
   ]
  },
  {
   "cell_type": "code",
   "execution_count": 15,
   "id": "87f20226",
   "metadata": {},
   "outputs": [],
   "source": [
    "players.to_csv(\"players.csv\")"
   ]
  },
  {
   "cell_type": "code",
   "execution_count": 18,
   "id": "55ddca38",
   "metadata": {},
   "outputs": [],
   "source": [
    "# Downloading team data\n",
    "team_stats_url = \"https://www.basketball-reference.com/leagues/NBA_{}_standings.html\"\n",
    "\n",
    "# Using division standings because conference standings table uses javascript\n",
    "for year in years:\n",
    "    url = team_stats_url.format(year)\n",
    "    data = requests.get(url)\n",
    "    with open(\"team/{}.html\".format(year), \"w+\") as f:\n",
    "        f.write(data.text)"
   ]
  },
  {
   "cell_type": "code",
   "execution_count": 20,
   "id": "84871a0b",
   "metadata": {},
   "outputs": [],
   "source": [
    "# Parsing team data\n",
    "dfs = []\n",
    "for year in years:\n",
    "    with open(\"team/{}.html\".format(year)) as f:\n",
    "        page = f.read()\n",
    "    \n",
    "    soup = BeautifulSoup(page, \"html.parser\")\n",
    "    soup.find('tr', class_=\"thead\").decompose()\n",
    "    team_table = soup.find(id=\"divs_standings_E\")\n",
    "    team = pd.read_html(str(team_table))[0]\n",
    "    team[\"Year\"] = year\n",
    "    \n",
    "    # Assigning whatever is listed under the Conference column to the Team column we are creating to represent the team name\n",
    "    team[\"Team\"] = team[\"Eastern Conference\"]\n",
    "    \n",
    "    # Removing unused column\n",
    "    del team[\"Eastern Conference\"]\n",
    "    dfs.append(team)\n",
    "    \n",
    "    soup = BeautifulSoup(page, \"html.parser\")\n",
    "    soup.find('tr', class_=\"thead\").decompose()\n",
    "    team_table = soup.find(id=\"divs_standings_W\")\n",
    "    team = pd.read_html(str(team_table))[0]\n",
    "    team[\"Year\"] = year\n",
    "    \n",
    "    team[\"Team\"] = team[\"Western Conference\"]\n",
    "    del team[\"Western Conference\"]\n",
    "    dfs.append(team)"
   ]
  },
  {
   "cell_type": "code",
   "execution_count": 21,
   "id": "8568a1f6",
   "metadata": {},
   "outputs": [],
   "source": [
    "teams = pd.concat(dfs)"
   ]
  },
  {
   "cell_type": "code",
   "execution_count": 22,
   "id": "a7b6e577",
   "metadata": {},
   "outputs": [],
   "source": [
    "teams.to_csv(\"teams.csv\")"
   ]
  }
 ],
 "metadata": {
  "kernelspec": {
   "display_name": "base",
   "language": "python",
   "name": "python3"
  },
  "language_info": {
   "codemirror_mode": {
    "name": "ipython",
    "version": 3
   },
   "file_extension": ".py",
   "mimetype": "text/x-python",
   "name": "python",
   "nbconvert_exporter": "python",
   "pygments_lexer": "ipython3",
   "version": "3.10.8"
  }
 },
 "nbformat": 4,
 "nbformat_minor": 5
}
